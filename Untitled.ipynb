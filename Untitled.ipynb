{
 "cells": [
  {
   "cell_type": "code",
   "execution_count": 1,
   "id": "ffa5e01d",
   "metadata": {},
   "outputs": [],
   "source": [
    "import plyfile\n",
    "path = 'Assets/CameraSimulation/Scenes/'"
   ]
  },
  {
   "cell_type": "code",
   "execution_count": 28,
   "id": "2d984575",
   "metadata": {},
   "outputs": [],
   "source": [
    "from PIL import Image\n",
    "\n",
    "# PLYファイルを読み込む\n",
    "plydata = plyfile.PlyData.read(path+'Flower.ply')\n",
    "\n",
    "# テクスチャを読み込む\n",
    "texture = Image.open(path+'Flower_0.jpg')"
   ]
  },
  {
   "cell_type": "code",
   "execution_count": 32,
   "id": "fb43f42f",
   "metadata": {},
   "outputs": [
    {
     "name": "stdout",
     "output_type": "stream",
     "text": [
      "[0 0 0 ... 0 0 0]\n",
      "[0.75431 0.75301 0.75304 ... 0.73879 0.73723 0.     ]\n",
      "2048 2048\n"
     ]
    }
   ],
   "source": [
    "import numpy as np\n",
    "\n",
    "# 頂点ごとのUV座標を取得\n",
    "u = plydata['multi_texture_vertex']['u']\n",
    "v = plydata['multi_texture_vertex']['v']\n",
    "print(plydata['multi_texture_vertex']['tx'])\n",
    "print(u)\n",
    "# テクスチャのサイズを取得\n",
    "texture_width, texture_height = texture.size\n",
    "print(texture_width, texture_height)\n",
    "# 各頂点のカラーを計算\n",
    "colors = []\n",
    "reds = []\n",
    "for i in range(len(plydata['vertex'])):\n",
    "    # 対応するテクスチャ上のピクセルの座標を計算\n",
    "    x = int((u[i]) * texture_width)\n",
    "    # y = int((1 - v[i]) * texture_height)\n",
    "    y = int((v[i]) * texture_height)\n",
    "    \n",
    "    # ピクセルのカラーを取得して頂点のカラーとする\n",
    "    color = texture.getpixel((x, y))\n",
    "    colors.append(color)\n",
    "\n",
    "# 頂点カラーを追加\n",
    "# plydata['vertex'].add_property(('red', 'green', 'blue'), np.uint8, colors)\n",
    "v = plydata['vertex']"
   ]
  },
  {
   "cell_type": "code",
   "execution_count": 33,
   "id": "f150fae8-6276-47e6-b365-f291adf3831a",
   "metadata": {},
   "outputs": [],
   "source": [
    "# Create the new vertex data with appropriate dtype\n",
    "a = np.empty(len(v.data), v.data.dtype.descr + [('red', 'uint8'), ('green', 'uint8'), ('blue', 'uint8')])\n",
    "for name in v.data.dtype.fields:\n",
    "    a[name] = v[name]\n",
    "a['red'] = np.array(colors)[:,0]\n",
    "a['green'] = np.array(colors)[:,1]\n",
    "a['blue'] = np.array(colors)[:,2]\n",
    "\n",
    "# Recreate the PlyElement instance\n",
    "v = plyfile.PlyElement.describe(a, 'vertex')\n",
    "\n",
    "# Recreate the PlyData instance\n",
    "p = plyfile.PlyData([v], text=False)"
   ]
  },
  {
   "cell_type": "code",
   "execution_count": 31,
   "id": "562b1dc8-b77f-4363-88fd-208b5a04facb",
   "metadata": {},
   "outputs": [],
   "source": [
    "with open(path+'colored_flower.ply', mode='wb') as f: \n",
    "    p.write(f)"
   ]
  },
  {
   "cell_type": "code",
   "execution_count": 15,
   "id": "0d69436f-a047-405b-aa97-d2fc932fea55",
   "metadata": {},
   "outputs": [
    {
     "ename": "ValueError",
     "evalue": "no field of name red",
     "output_type": "error",
     "traceback": [
      "\u001b[0;31m---------------------------------------------------------------------------\u001b[0m",
      "\u001b[0;31mValueError\u001b[0m                                Traceback (most recent call last)",
      "Input \u001b[0;32mIn [15]\u001b[0m, in \u001b[0;36m<cell line: 1>\u001b[0;34m()\u001b[0m\n\u001b[0;32m----> 1\u001b[0m plydata[\u001b[38;5;124m'\u001b[39m\u001b[38;5;124mvertex\u001b[39m\u001b[38;5;124m'\u001b[39m]\u001b[38;5;241m.\u001b[39mdata[\u001b[38;5;124m\"\u001b[39m\u001b[38;5;124mred\u001b[39m\u001b[38;5;124m\"\u001b[39m] \u001b[38;5;241m=\u001b[39m colors[:][\u001b[38;5;241m0\u001b[39m]\n",
      "\u001b[0;31mValueError\u001b[0m: no field of name red"
     ]
    }
   ],
   "source": [
    "plydata['vertex'].data[\"red\"] = colors[:][0]"
   ]
  },
  {
   "cell_type": "code",
   "execution_count": 37,
   "id": "70fba6a4-173e-43ec-864a-aaee3f48c64f",
   "metadata": {},
   "outputs": [],
   "source": [
    "plydata = plyfile.PlyData.read('Assets/CameraSimulation/Scenes/anthidium-forcipatum.ply')"
   ]
  },
  {
   "cell_type": "code",
   "execution_count": 39,
   "id": "57225a30-f170-4e3e-82ea-c5e59d39c464",
   "metadata": {},
   "outputs": [
    {
     "data": {
      "text/plain": [
       "memmap([ 47, 131,  66, ..., 168, 148, 156], dtype=uint8)"
      ]
     },
     "execution_count": 39,
     "metadata": {},
     "output_type": "execute_result"
    }
   ],
   "source": [
    "plydata[\"vertex\"][\"red\"]"
   ]
  },
  {
   "cell_type": "code",
   "execution_count": null,
   "id": "34b6733b-20be-4086-9d40-7937e3581305",
   "metadata": {},
   "outputs": [],
   "source": []
  }
 ],
 "metadata": {
  "kernelspec": {
   "display_name": "Python 3 (ipykernel)",
   "language": "python",
   "name": "python3"
  },
  "language_info": {
   "codemirror_mode": {
    "name": "ipython",
    "version": 3
   },
   "file_extension": ".py",
   "mimetype": "text/x-python",
   "name": "python",
   "nbconvert_exporter": "python",
   "pygments_lexer": "ipython3",
   "version": "3.8.13"
  }
 },
 "nbformat": 4,
 "nbformat_minor": 5
}
